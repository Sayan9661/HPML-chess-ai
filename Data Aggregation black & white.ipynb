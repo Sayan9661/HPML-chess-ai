{
 "cells": [
  {
   "cell_type": "code",
   "execution_count": 13,
   "id": "2fa6a44d",
   "metadata": {},
   "outputs": [],
   "source": [
    "import pandas as pd\n",
    "import numpy as np"
   ]
  },
  {
   "cell_type": "code",
   "execution_count": 14,
   "id": "e1e72f6e",
   "metadata": {},
   "outputs": [],
   "source": [
    "dfr1b = pd.read_csv('black_random_1.csv').dropna()\n",
    "dfr1w = pd.read_csv('white_random_1.csv').dropna()\n",
    "\n",
    "dfr2b = pd.read_csv('black_random_2.csv').dropna()\n",
    "dfr2w = pd.read_csv('white_random_2.csv').dropna()\n",
    "\n",
    "dfr3b = pd.read_csv('black_random_3.csv').dropna()\n",
    "dfr3w = pd.read_csv('white_random_3.csv').dropna()"
   ]
  },
  {
   "cell_type": "code",
   "execution_count": 15,
   "id": "e5e816c1",
   "metadata": {},
   "outputs": [],
   "source": [
    "dfgb = pd.read_csv('black_games.csv').dropna()\n",
    "dfgw = pd.read_csv('white_gamse.csv').dropna()"
   ]
  },
  {
   "cell_type": "code",
   "execution_count": 16,
   "id": "6cc97f12",
   "metadata": {},
   "outputs": [],
   "source": [
    "df_total = pd.concat([dfr1b,dfr1w,dfr2b,dfr2w,dfr3b,dfr3w],axis=0)"
   ]
  },
  {
   "cell_type": "code",
   "execution_count": 17,
   "id": "e60a1617",
   "metadata": {},
   "outputs": [
    {
     "data": {
      "text/plain": [
       "262996"
      ]
     },
     "execution_count": 17,
     "metadata": {},
     "output_type": "execute_result"
    }
   ],
   "source": [
    "len(df_total)"
   ]
  },
  {
   "cell_type": "code",
   "execution_count": 28,
   "id": "64dda50f",
   "metadata": {},
   "outputs": [],
   "source": [
    "m = np.mean(df_total['score'])"
   ]
  },
  {
   "cell_type": "code",
   "execution_count": 29,
   "id": "b3a0cd00",
   "metadata": {},
   "outputs": [],
   "source": [
    "s = np.std(df_total['score'])"
   ]
  },
  {
   "cell_type": "code",
   "execution_count": 35,
   "id": "51032ffc",
   "metadata": {},
   "outputs": [],
   "source": [
    "black_games_data_final = pd.concat([dfr1b,dfr2b,dfr3b],axis=0).dropna()\n",
    "black_games_data_final['score'] -= m\n",
    "black_games_data_final['score'] /= s"
   ]
  },
  {
   "cell_type": "code",
   "execution_count": 36,
   "id": "9734f9d4",
   "metadata": {},
   "outputs": [],
   "source": [
    "black_min = min(black_games_data_final['score'])\n",
    "black_max = max(black_games_data_final['score'])\n",
    "black_games_data_final['score'] = (black_games_data_final['score'] - black_min)/(black_max - black_min)"
   ]
  },
  {
   "cell_type": "code",
   "execution_count": 37,
   "id": "bc88a5a5",
   "metadata": {},
   "outputs": [
    {
     "data": {
      "text/html": [
       "<div>\n",
       "<style scoped>\n",
       "    .dataframe tbody tr th:only-of-type {\n",
       "        vertical-align: middle;\n",
       "    }\n",
       "\n",
       "    .dataframe tbody tr th {\n",
       "        vertical-align: top;\n",
       "    }\n",
       "\n",
       "    .dataframe thead th {\n",
       "        text-align: right;\n",
       "    }\n",
       "</style>\n",
       "<table border=\"1\" class=\"dataframe\">\n",
       "  <thead>\n",
       "    <tr style=\"text-align: right;\">\n",
       "      <th></th>\n",
       "      <th>game_name</th>\n",
       "      <th>move</th>\n",
       "      <th>path</th>\n",
       "      <th>score</th>\n",
       "    </tr>\n",
       "  </thead>\n",
       "  <tbody>\n",
       "    <tr>\n",
       "      <th>0</th>\n",
       "      <td>random</td>\n",
       "      <td>1</td>\n",
       "      <td>black_random_games/1.npy</td>\n",
       "      <td>0.577875</td>\n",
       "    </tr>\n",
       "    <tr>\n",
       "      <th>1</th>\n",
       "      <td>random</td>\n",
       "      <td>6</td>\n",
       "      <td>black_random_games/6.npy</td>\n",
       "      <td>0.538703</td>\n",
       "    </tr>\n",
       "    <tr>\n",
       "      <th>2</th>\n",
       "      <td>random</td>\n",
       "      <td>10</td>\n",
       "      <td>black_random_games/10.npy</td>\n",
       "      <td>0.427713</td>\n",
       "    </tr>\n",
       "    <tr>\n",
       "      <th>3</th>\n",
       "      <td>random</td>\n",
       "      <td>12</td>\n",
       "      <td>black_random_games/12.npy</td>\n",
       "      <td>0.407970</td>\n",
       "    </tr>\n",
       "    <tr>\n",
       "      <th>4</th>\n",
       "      <td>random</td>\n",
       "      <td>14</td>\n",
       "      <td>black_random_games/14.npy</td>\n",
       "      <td>0.507991</td>\n",
       "    </tr>\n",
       "  </tbody>\n",
       "</table>\n",
       "</div>"
      ],
      "text/plain": [
       "  game_name  move                       path     score\n",
       "0    random     1   black_random_games/1.npy  0.577875\n",
       "1    random     6   black_random_games/6.npy  0.538703\n",
       "2    random    10  black_random_games/10.npy  0.427713\n",
       "3    random    12  black_random_games/12.npy  0.407970\n",
       "4    random    14  black_random_games/14.npy  0.507991"
      ]
     },
     "execution_count": 37,
     "metadata": {},
     "output_type": "execute_result"
    }
   ],
   "source": [
    "black_games_data_final.head()"
   ]
  },
  {
   "cell_type": "code",
   "execution_count": 38,
   "id": "b7bfa626",
   "metadata": {},
   "outputs": [],
   "source": [
    "white_games_data_final = pd.concat([dfr1w,dfr2w,dfr3w],axis=0).dropna()\n",
    "white_games_data_final['score'] -= m\n",
    "white_games_data_final['score'] /= s"
   ]
  },
  {
   "cell_type": "code",
   "execution_count": 39,
   "id": "8dbad6de",
   "metadata": {},
   "outputs": [],
   "source": [
    "white_min = min(white_games_data_final['score'])\n",
    "white_max = max(white_games_data_final['score'])\n",
    "white_games_data_final['score'] = (white_games_data_final['score'] - white_min)/(white_max - white_min)"
   ]
  },
  {
   "cell_type": "code",
   "execution_count": 40,
   "id": "9f58adde",
   "metadata": {},
   "outputs": [
    {
     "data": {
      "text/html": [
       "<div>\n",
       "<style scoped>\n",
       "    .dataframe tbody tr th:only-of-type {\n",
       "        vertical-align: middle;\n",
       "    }\n",
       "\n",
       "    .dataframe tbody tr th {\n",
       "        vertical-align: top;\n",
       "    }\n",
       "\n",
       "    .dataframe thead th {\n",
       "        text-align: right;\n",
       "    }\n",
       "</style>\n",
       "<table border=\"1\" class=\"dataframe\">\n",
       "  <thead>\n",
       "    <tr style=\"text-align: right;\">\n",
       "      <th></th>\n",
       "      <th>game_name</th>\n",
       "      <th>move</th>\n",
       "      <th>path</th>\n",
       "      <th>score</th>\n",
       "    </tr>\n",
       "  </thead>\n",
       "  <tbody>\n",
       "    <tr>\n",
       "      <th>0</th>\n",
       "      <td>random</td>\n",
       "      <td>2</td>\n",
       "      <td>white_random_games/2.npy</td>\n",
       "      <td>0.468982</td>\n",
       "    </tr>\n",
       "    <tr>\n",
       "      <th>1</th>\n",
       "      <td>random</td>\n",
       "      <td>3</td>\n",
       "      <td>white_random_games/3.npy</td>\n",
       "      <td>0.525946</td>\n",
       "    </tr>\n",
       "    <tr>\n",
       "      <th>2</th>\n",
       "      <td>random</td>\n",
       "      <td>4</td>\n",
       "      <td>white_random_games/4.npy</td>\n",
       "      <td>0.441115</td>\n",
       "    </tr>\n",
       "    <tr>\n",
       "      <th>3</th>\n",
       "      <td>random</td>\n",
       "      <td>5</td>\n",
       "      <td>white_random_games/5.npy</td>\n",
       "      <td>0.576712</td>\n",
       "    </tr>\n",
       "    <tr>\n",
       "      <th>5</th>\n",
       "      <td>random</td>\n",
       "      <td>8</td>\n",
       "      <td>white_random_games/8.npy</td>\n",
       "      <td>0.543312</td>\n",
       "    </tr>\n",
       "  </tbody>\n",
       "</table>\n",
       "</div>"
      ],
      "text/plain": [
       "  game_name  move                      path     score\n",
       "0    random     2  white_random_games/2.npy  0.468982\n",
       "1    random     3  white_random_games/3.npy  0.525946\n",
       "2    random     4  white_random_games/4.npy  0.441115\n",
       "3    random     5  white_random_games/5.npy  0.576712\n",
       "5    random     8  white_random_games/8.npy  0.543312"
      ]
     },
     "execution_count": 40,
     "metadata": {},
     "output_type": "execute_result"
    }
   ],
   "source": [
    "white_games_data_final.head()"
   ]
  },
  {
   "cell_type": "code",
   "execution_count": 43,
   "id": "f56bfb9f",
   "metadata": {},
   "outputs": [
    {
     "data": {
      "text/plain": [
       "(131359, 8, 8, 8)"
      ]
     },
     "execution_count": 43,
     "metadata": {},
     "output_type": "execute_result"
    }
   ],
   "source": [
    "white_large = np.zeros((len(white_games_data_final),8,8,8),dtype=np.float32)\n",
    "white_large.shape"
   ]
  },
  {
   "cell_type": "code",
   "execution_count": 22,
   "id": "4b780c42",
   "metadata": {},
   "outputs": [
    {
     "data": {
      "text/plain": [
       "353881"
      ]
     },
     "execution_count": 22,
     "metadata": {},
     "output_type": "execute_result"
    }
   ],
   "source": [
    "len(white_games_data_final)"
   ]
  },
  {
   "cell_type": "code",
   "execution_count": 49,
   "id": "66a942fb",
   "metadata": {},
   "outputs": [],
   "source": [
    "l = np.load('white_random_games/2.npy').astype(np.float32)"
   ]
  },
  {
   "cell_type": "code",
   "execution_count": 50,
   "id": "9aab7598",
   "metadata": {},
   "outputs": [
    {
     "data": {
      "text/plain": [
       "dtype('float32')"
      ]
     },
     "execution_count": 50,
     "metadata": {},
     "output_type": "execute_result"
    }
   ],
   "source": [
    "l.dtype"
   ]
  },
  {
   "cell_type": "code",
   "execution_count": 65,
   "id": "a5273cb4",
   "metadata": {},
   "outputs": [],
   "source": [
    "white_large = np.zeros((len(white_games_data_final),8,8,8),dtype=np.float32)\n",
    "white_score = np.zeros(len(white_games_data_final))"
   ]
  },
  {
   "cell_type": "code",
   "execution_count": 66,
   "id": "429e7407",
   "metadata": {},
   "outputs": [],
   "source": [
    "idx = 0"
   ]
  },
  {
   "cell_type": "code",
   "execution_count": 2,
   "id": "9dbc4b66",
   "metadata": {},
   "outputs": [
    {
     "ename": "NameError",
     "evalue": "name 'white_large' is not defined",
     "output_type": "error",
     "traceback": [
      "\u001b[0;31m---------------------------------------------------------------------------\u001b[0m",
      "\u001b[0;31mNameError\u001b[0m                                 Traceback (most recent call last)",
      "Input \u001b[0;32mIn [2]\u001b[0m, in \u001b[0;36m<cell line: 1>\u001b[0;34m()\u001b[0m\n\u001b[0;32m----> 1\u001b[0m \u001b[38;5;28mlen\u001b[39m(\u001b[43mwhite_large\u001b[49m)\n",
      "\u001b[0;31mNameError\u001b[0m: name 'white_large' is not defined"
     ]
    }
   ],
   "source": [
    "len(white_large)"
   ]
  },
  {
   "cell_type": "code",
   "execution_count": 67,
   "id": "99f7b215",
   "metadata": {
    "scrolled": true
   },
   "outputs": [
    {
     "name": "stdout",
     "output_type": "stream",
     "text": [
      "1000\n",
      "2000\n",
      "3000\n",
      "4000\n",
      "5000\n",
      "6000\n",
      "7000\n",
      "8000\n",
      "9000\n",
      "10000\n",
      "11000\n",
      "12000\n",
      "13000\n",
      "14000\n",
      "15000\n",
      "16000\n",
      "17000\n",
      "18000\n",
      "19000\n",
      "20000\n",
      "21000\n",
      "22000\n",
      "23000\n",
      "24000\n",
      "25000\n",
      "26000\n",
      "27000\n",
      "28000\n",
      "29000\n",
      "30000\n",
      "31000\n",
      "32000\n",
      "33000\n",
      "34000\n",
      "35000\n",
      "36000\n",
      "37000\n",
      "38000\n",
      "39000\n",
      "40000\n",
      "41000\n",
      "42000\n",
      "43000\n",
      "44000\n",
      "45000\n",
      "46000\n",
      "47000\n",
      "48000\n",
      "49000\n",
      "50000\n",
      "51000\n",
      "52000\n",
      "53000\n",
      "54000\n",
      "55000\n",
      "56000\n",
      "57000\n",
      "58000\n",
      "59000\n",
      "60000\n",
      "61000\n",
      "62000\n",
      "63000\n",
      "64000\n",
      "65000\n",
      "66000\n",
      "67000\n",
      "68000\n",
      "69000\n",
      "70000\n",
      "71000\n",
      "72000\n",
      "73000\n",
      "74000\n",
      "75000\n",
      "76000\n",
      "77000\n",
      "78000\n",
      "79000\n",
      "80000\n",
      "81000\n",
      "82000\n",
      "83000\n",
      "84000\n",
      "85000\n",
      "86000\n",
      "87000\n",
      "88000\n",
      "89000\n",
      "90000\n",
      "91000\n",
      "92000\n",
      "93000\n",
      "94000\n",
      "95000\n",
      "96000\n",
      "97000\n",
      "98000\n",
      "99000\n",
      "100000\n",
      "101000\n",
      "102000\n",
      "103000\n",
      "104000\n",
      "105000\n",
      "106000\n",
      "107000\n",
      "108000\n",
      "109000\n",
      "110000\n",
      "111000\n",
      "112000\n",
      "113000\n",
      "114000\n",
      "115000\n",
      "116000\n",
      "117000\n",
      "118000\n",
      "119000\n",
      "120000\n",
      "121000\n",
      "122000\n",
      "123000\n",
      "124000\n",
      "125000\n",
      "126000\n",
      "127000\n",
      "128000\n",
      "129000\n",
      "130000\n",
      "131000\n"
     ]
    }
   ],
   "source": [
    "for i,row in white_games_data_final.iterrows():\n",
    "    np_arr = np.load(row['path']).astype(np.float32)\n",
    "    white_large[idx] = np_arr\n",
    "    white_score[idx] = row['score']\n",
    "    idx += 1\n",
    "    if idx%1000 == 0:\n",
    "        print(idx)"
   ]
  },
  {
   "cell_type": "code",
   "execution_count": 76,
   "id": "339a2c51",
   "metadata": {},
   "outputs": [],
   "source": [
    "np.save('white_large_np',white_large)\n",
    "np.save('white_large_score',white_score)"
   ]
  },
  {
   "cell_type": "code",
   "execution_count": 3,
   "id": "2023b428",
   "metadata": {},
   "outputs": [],
   "source": [
    "white_large = np.load('white_large_np.npy')\n",
    "black_large = np.load('black_large_np.npy')"
   ]
  },
  {
   "cell_type": "code",
   "execution_count": 4,
   "id": "4b4fcaaa",
   "metadata": {},
   "outputs": [
    {
     "data": {
      "text/plain": [
       "131359"
      ]
     },
     "execution_count": 4,
     "metadata": {},
     "output_type": "execute_result"
    }
   ],
   "source": [
    "len(white_large)"
   ]
  },
  {
   "cell_type": "code",
   "execution_count": 5,
   "id": "deee4673",
   "metadata": {},
   "outputs": [
    {
     "data": {
      "text/plain": [
       "131637"
      ]
     },
     "execution_count": 5,
     "metadata": {},
     "output_type": "execute_result"
    }
   ],
   "source": [
    "len(black_large)"
   ]
  },
  {
   "cell_type": "code",
   "execution_count": 12,
   "id": "e2272877",
   "metadata": {},
   "outputs": [
    {
     "data": {
      "text/plain": [
       "array([], dtype=float32)"
      ]
     },
     "execution_count": 12,
     "metadata": {},
     "output_type": "execute_result"
    }
   ],
   "source": [
    "black_large[black_large>1]"
   ]
  },
  {
   "cell_type": "code",
   "execution_count": 3,
   "id": "7f805eac",
   "metadata": {},
   "outputs": [
    {
     "data": {
      "text/plain": [
       "(131359, 8, 8, 8)"
      ]
     },
     "execution_count": 3,
     "metadata": {},
     "output_type": "execute_result"
    }
   ],
   "source": [
    "white_large.shape"
   ]
  },
  {
   "cell_type": "code",
   "execution_count": 4,
   "id": "0dfbcaed",
   "metadata": {},
   "outputs": [
    {
     "data": {
      "text/plain": [
       "(131637, 8, 8, 8)"
      ]
     },
     "execution_count": 4,
     "metadata": {},
     "output_type": "execute_result"
    }
   ],
   "source": [
    "black_large.shape"
   ]
  },
  {
   "cell_type": "code",
   "execution_count": 77,
   "id": "25ec53ea",
   "metadata": {},
   "outputs": [],
   "source": [
    "black_large = np.zeros((len(black_games_data_final),8,8,8),dtype=np.float32)\n",
    "black_score = np.zeros(len(black_games_data_final))"
   ]
  },
  {
   "cell_type": "code",
   "execution_count": 78,
   "id": "35d69b7a",
   "metadata": {},
   "outputs": [],
   "source": [
    "idx = 0"
   ]
  },
  {
   "cell_type": "code",
   "execution_count": 79,
   "id": "b3e97000",
   "metadata": {
    "scrolled": true
   },
   "outputs": [
    {
     "name": "stdout",
     "output_type": "stream",
     "text": [
      "1000\n",
      "2000\n",
      "3000\n",
      "4000\n",
      "5000\n",
      "6000\n",
      "7000\n",
      "8000\n",
      "9000\n",
      "10000\n",
      "11000\n",
      "12000\n",
      "13000\n",
      "14000\n",
      "15000\n",
      "16000\n",
      "17000\n",
      "18000\n",
      "19000\n",
      "20000\n",
      "21000\n",
      "22000\n",
      "23000\n",
      "24000\n",
      "25000\n",
      "26000\n",
      "27000\n",
      "28000\n",
      "29000\n",
      "30000\n",
      "31000\n",
      "32000\n",
      "33000\n",
      "34000\n",
      "35000\n",
      "36000\n",
      "37000\n",
      "38000\n",
      "39000\n",
      "40000\n",
      "41000\n",
      "42000\n",
      "43000\n",
      "44000\n",
      "45000\n",
      "46000\n",
      "47000\n",
      "48000\n",
      "49000\n",
      "50000\n",
      "51000\n",
      "52000\n",
      "53000\n",
      "54000\n",
      "55000\n",
      "56000\n",
      "57000\n",
      "58000\n",
      "59000\n",
      "60000\n",
      "61000\n",
      "62000\n",
      "63000\n",
      "64000\n",
      "65000\n",
      "66000\n",
      "67000\n",
      "68000\n",
      "69000\n",
      "70000\n",
      "71000\n",
      "72000\n",
      "73000\n",
      "74000\n",
      "75000\n",
      "76000\n",
      "77000\n",
      "78000\n",
      "79000\n",
      "80000\n",
      "81000\n",
      "82000\n",
      "83000\n",
      "84000\n",
      "85000\n",
      "86000\n",
      "87000\n",
      "88000\n",
      "89000\n",
      "90000\n",
      "91000\n",
      "92000\n",
      "93000\n",
      "94000\n",
      "95000\n",
      "96000\n",
      "97000\n",
      "98000\n",
      "99000\n",
      "100000\n",
      "101000\n",
      "102000\n",
      "103000\n",
      "104000\n",
      "105000\n",
      "106000\n",
      "107000\n",
      "108000\n",
      "109000\n",
      "110000\n",
      "111000\n",
      "112000\n",
      "113000\n",
      "114000\n",
      "115000\n",
      "116000\n",
      "117000\n",
      "118000\n",
      "119000\n",
      "120000\n",
      "121000\n",
      "122000\n",
      "123000\n",
      "124000\n",
      "125000\n",
      "126000\n",
      "127000\n",
      "128000\n",
      "129000\n",
      "130000\n",
      "131000\n"
     ]
    }
   ],
   "source": [
    "for i,row in black_games_data_final.iterrows():\n",
    "    np_arr = np.load(row['path']).astype(np.float32)\n",
    "    black_large[idx] = np_arr\n",
    "    black_score[idx] = row['score']\n",
    "    idx += 1\n",
    "    if idx%1000 == 0:\n",
    "        print(idx)"
   ]
  },
  {
   "cell_type": "code",
   "execution_count": 80,
   "id": "0eb09ae5",
   "metadata": {},
   "outputs": [],
   "source": [
    "np.save('black_large_np',black_large)\n",
    "np.save('black_large_score',black_score)"
   ]
  },
  {
   "cell_type": "code",
   "execution_count": 21,
   "id": "a522f4bb",
   "metadata": {},
   "outputs": [],
   "source": [
    "black_games_data_final.to_csv('black_games_final.csv',index=False)\n",
    "white_games_data_final.to_csv('white_games_final.csv',index=False)"
   ]
  },
  {
   "cell_type": "code",
   "execution_count": 54,
   "id": "9f75533d",
   "metadata": {},
   "outputs": [],
   "source": []
  }
 ],
 "metadata": {
  "kernelspec": {
   "display_name": "Python 3 (ipykernel)",
   "language": "python",
   "name": "python3"
  },
  "language_info": {
   "codemirror_mode": {
    "name": "ipython",
    "version": 3
   },
   "file_extension": ".py",
   "mimetype": "text/x-python",
   "name": "python",
   "nbconvert_exporter": "python",
   "pygments_lexer": "ipython3",
   "version": "3.9.12"
  }
 },
 "nbformat": 4,
 "nbformat_minor": 5
}
