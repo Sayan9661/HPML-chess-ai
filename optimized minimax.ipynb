{
 "cells": [
  {
   "cell_type": "code",
   "execution_count": null,
   "id": "d379b21d",
   "metadata": {},
   "outputs": [],
   "source": [
    "import chess\n",
    "import chess.engine\n",
    "import numpy\n",
    "from IPython.display import clear_output\n",
    "import math\n",
    "import time\n",
    "from collections import defaultdict\n",
    "import numpy as np"
   ]
  },
  {
   "cell_type": "code",
   "execution_count": null,
   "id": "e7361e99",
   "metadata": {},
   "outputs": [],
   "source": [
    "from utils import *"
   ]
  },
  {
   "cell_type": "code",
   "execution_count": null,
   "id": "be18a183",
   "metadata": {},
   "outputs": [],
   "source": [
    "model_white = build_model(32, 4)\n",
    "model_black = build_model(32, 4)\n",
    "\n",
    "model_white.load_weights('model_white.h5')\n",
    "model_black.load_weights('model_black.h5')"
   ]
  },
  {
   "cell_type": "code",
   "execution_count": null,
   "id": "17179c62",
   "metadata": {},
   "outputs": [],
   "source": [
    "model_white_64_5 = build_model(64, 5)\n",
    "model_black_64_5 = build_model(64, 5)\n",
    "\n",
    "model_white_64_5.load_weights('model_white_64_5.h5')\n",
    "model_black_64_5.load_weights('model_black_64_5.h5')"
   ]
  },
  {
   "cell_type": "code",
   "execution_count": null,
   "id": "287d1703",
   "metadata": {},
   "outputs": [],
   "source": [
    "from abc import ABC, abstractmethod\n",
    " \n",
    "class Player(ABC):\n",
    "    @abstractmethod\n",
    "    def choose_move(self,board):\n",
    "        pass\n",
    "    \n",
    "class Human(ABC):\n",
    "    def choose_move(self,board):\n",
    "        legal_moves = self.print_moves(board)\n",
    "        user_move = None\n",
    "        while not user_move in legal_moves:\n",
    "            user_move = input('choose move:')\n",
    "        return chess.Move.from_uci(user_move)\n",
    "    \n",
    "    def print_moves(self,board):\n",
    "        print(\"legal moves:\")\n",
    "        moves = []\n",
    "        for move in board.legal_moves:\n",
    "            moves.append(str(move))\n",
    "            print(move,end=', ')\n",
    "        return set(moves)\n",
    "\n",
    "class AiPlayer(ABC):\n",
    "    @abstractmethod\n",
    "    def score(self,board):\n",
    "        # how good is a position based on perspective of entity which has the turn?\n",
    "        pass"
   ]
  },
  {
   "cell_type": "code",
   "execution_count": null,
   "id": "7d7706cb",
   "metadata": {},
   "outputs": [],
   "source": [
    "class ChessAi(Player,AiPlayer):\n",
    "    def __init__(self,white_model,black_model,depth=2):\n",
    "        self.white_model=white_model\n",
    "        self.black_model=black_model\n",
    "        self.depth=depth\n",
    "        \n",
    "    def choose_move(self,board):\n",
    "        print('ai is thinking....')\n",
    "        \n",
    "        move = self.choose_move_minmax(board,self.depth)[0]\n",
    "        return move\n",
    "    \n",
    "    def score(self,board):\n",
    "        if board.turn:\n",
    "            return 100 * eval_board(board,self.white_model)\n",
    "        else:\n",
    "            return 100 * (1 - eval_board(board,self.white_model))\n",
    "    \n",
    "    def choose_move_minmax(self,board,depth,maximize=None):\n",
    "        \n",
    "        if maximize is None:\n",
    "            maximize = (depth%2 == 0)\n",
    "            \n",
    "        # minimize opponents score\n",
    "        if maximize:\n",
    "            score = -math.inf\n",
    "        else:\n",
    "            score = math.inf\n",
    "        \n",
    "        for move in board.legal_moves:\n",
    "            board.push(move)\n",
    "\n",
    "            if depth == 1:\n",
    "                potential_score = self.score(board)\n",
    "            else:\n",
    "                potential_score = self.choose_move_minmax(board,depth-1,not maximize)[1]\n",
    "            \n",
    "            if (maximize and potential_score>score) or (not maximize and potential_score<score):\n",
    "                score = potential_score\n",
    "                selected_move = move\n",
    "                \n",
    "            board.pop()\n",
    "            \n",
    "        return selected_move,score"
   ]
  },
  {
   "cell_type": "code",
   "execution_count": null,
   "id": "16adb9ca",
   "metadata": {},
   "outputs": [],
   "source": [
    "chess_ai = ChessAi(model_white,model_black,2)\n",
    "chess_ai_deep = ChessAi(model_white_64_5,model_black_64_5)\n",
    "human_player = Human()"
   ]
  },
  {
   "cell_type": "code",
   "execution_count": null,
   "id": "e06a44b9",
   "metadata": {},
   "outputs": [],
   "source": [
    "player_black = human_player\n",
    "player_white = chess_ai"
   ]
  },
  {
   "cell_type": "code",
   "execution_count": null,
   "id": "af833eb1",
   "metadata": {},
   "outputs": [],
   "source": [
    "board = chess.Board()"
   ]
  },
  {
   "cell_type": "code",
   "execution_count": null,
   "id": "2b415303",
   "metadata": {
    "scrolled": true
   },
   "outputs": [],
   "source": [
    "t_start,t_end = None,None\n",
    "\n",
    "while not board.is_game_over():\n",
    "    clear_output()\n",
    "    display(board)\n",
    "    \n",
    "    if t_end:\n",
    "        print(f'took {t_end-t_start}s to choose last move')\n",
    "    \n",
    "    if board.turn:\n",
    "        current_player = player_white\n",
    "    else:\n",
    "        current_player = player_black\n",
    "    \n",
    "    t_start = time.time()\n",
    "    move = current_player.choose_move(board)\n",
    "    t_end = time.time()\n",
    "    print(f'ai took {t_end-t_start}s to choose a move')\n",
    "    \n",
    "    board.push(move)\n",
    "    \n",
    "board.outcome()"
   ]
  },
  {
   "cell_type": "code",
   "execution_count": null,
   "id": "bf21b08a",
   "metadata": {},
   "outputs": [],
   "source": [
    "board"
   ]
  },
  {
   "cell_type": "code",
   "execution_count": null,
   "id": "079c0ed0",
   "metadata": {},
   "outputs": [],
   "source": [
    "import time\n",
    "board_test = chess.Board()\n",
    "for move in board.move_stack:\n",
    "    board_test.push(move)\n",
    "    clear_output()\n",
    "    display(board_test)\n",
    "    time.sleep(2)"
   ]
  },
  {
   "cell_type": "code",
   "execution_count": null,
   "id": "e7f52890",
   "metadata": {},
   "outputs": [],
   "source": [
    "board.legal_moves"
   ]
  },
  {
   "cell_type": "code",
   "execution_count": null,
   "id": "d21477f5",
   "metadata": {},
   "outputs": [],
   "source": [
    "def default_evaluate(boards):\n",
    "    # placeholder evaluation function\n",
    "    return list(range(len(boards)))\n",
    "\n",
    "def produce_pruner_by_percentage(prune_percentage):\n",
    "    # placeholder pruner function\n",
    "    def prune(boards,scores,depth,turn):\n",
    "        boards_and_scores = list(zip(scores,boards))\n",
    "\n",
    "        # min extractor\n",
    "        extractor = lambda a: a[0]\n",
    "        if (turn and depth%2) or (not turn and not depth%2):\n",
    "            # max extractor\n",
    "            extractor = lambda a: -a[0]\n",
    "\n",
    "        boards_and_scores.sort(key = extractor)\n",
    "        boards_and_scores = boards_and_scores[:math.ceil((1-prune_percentage)*len(boards_and_scores))]\n",
    "        return [board for score,board in boards_and_scores]\n",
    "    return prune\n",
    "\n",
    "default_prune = produce_pruner_by_percentage(0.5)\n",
    "\n",
    "def produce_pruner_by_top_k(top_k):\n",
    "    # placeholder pruner function\n",
    "    def prune(boards,scores,depth,turn):\n",
    "        boards_and_scores = list(zip(scores,boards))\n",
    "\n",
    "        # min extractor\n",
    "        extractor = lambda a: a[0]\n",
    "        if (turn and depth%2) or (not turn and not depth%2):\n",
    "            # max extractor\n",
    "            extractor = lambda a: -a[0]\n",
    "\n",
    "        boards_and_scores.sort(key = extractor)\n",
    "        boards_and_scores = boards_and_scores[:top_k]\n",
    "        return [board for score,board in boards_and_scores]\n",
    "    return prune"
   ]
  },
  {
   "cell_type": "code",
   "execution_count": null,
   "id": "17ab34e1",
   "metadata": {},
   "outputs": [],
   "source": []
  },
  {
   "cell_type": "code",
   "execution_count": null,
   "id": "79ac3924",
   "metadata": {},
   "outputs": [],
   "source": [
    "result = defaultdict(list)\n",
    "def move_tree_dfs(result,board,max_depth,current_depth=1,source_move=None):\n",
    "    if current_depth > max_depth: return\n",
    "    for move in board.legal_moves:\n",
    "        board.push(move)\n",
    "        candidate_board = board.copy()\n",
    "        board.pop()\n",
    "        result[current_depth].append((candidate_board,source_move))\n",
    "        \n",
    "        if source_move is None:\n",
    "            get_move_tree(result,candidate_board,max_depth,current_depth+1,move)\n",
    "        else:\n",
    "            get_move_tree(result,candidate_board,max_depth,current_depth+1,source_move)"
   ]
  },
  {
   "cell_type": "code",
   "execution_count": null,
   "id": "db0f8180",
   "metadata": {},
   "outputs": [],
   "source": [
    "def move_tree_bfs(\n",
    "    result,boards,max_depth,source_board_turn,current_depth=1,source_move=None,\n",
    "    pruner=default_prune,evaluator=default_evaluate\n",
    "):\n",
    "    if type(boards) != list:\n",
    "        print(boards)\n",
    "        boards = [boards]\n",
    "    if current_depth > max_depth: return\n",
    "    for board in boards:\n",
    "        for move in board.legal_moves:\n",
    "            board.push(move)\n",
    "            candidate_board = board.copy()\n",
    "            board.pop()\n",
    "            candidate_source_move = source_move\n",
    "            if candidate_source_move is None:\n",
    "                candidate_source_move = move\n",
    "            result[current_depth].append((candidate_board,candidate_source_move))\n",
    "    \n",
    "    # evaluate boards\n",
    "    scores = evaluator(result[current_depth])\n",
    "    \n",
    "    # prune boards\n",
    "    print(f'original length at depth {current_depth}: {len(result[current_depth])}')\n",
    "    pruned_board_set = pruner(result[current_depth],scores,current_depth,source_board_turn)\n",
    "    result[current_depth] = pruned_board_set\n",
    "    print(f'pruned length at depth {current_depth}: {len(result[current_depth])}')\n",
    "    pruned_boards = [board for board,move in pruned_board_set]\n",
    "    \n",
    "    move_tree_bfs(\n",
    "        result,pruned_boards,max_depth,source_board_turn,\n",
    "        current_depth+1,source_move,\n",
    "        pruner,evaluator\n",
    "    )\n",
    "    "
   ]
  },
  {
   "cell_type": "code",
   "execution_count": null,
   "id": "57f9648b",
   "metadata": {},
   "outputs": [],
   "source": [
    "board = chess.Board()"
   ]
  },
  {
   "cell_type": "code",
   "execution_count": null,
   "id": "2c695d77",
   "metadata": {
    "scrolled": true
   },
   "outputs": [],
   "source": [
    "depth = 1\n",
    "result = defaultdict(list)\n",
    "move_tree_bfs(result,board,depth,board.turn)"
   ]
  },
  {
   "cell_type": "code",
   "execution_count": null,
   "id": "450257ba",
   "metadata": {},
   "outputs": [],
   "source": [
    "result[depth][0]"
   ]
  },
  {
   "cell_type": "code",
   "execution_count": null,
   "id": "2dbc1679",
   "metadata": {},
   "outputs": [],
   "source": [
    "board"
   ]
  },
  {
   "cell_type": "code",
   "execution_count": null,
   "id": "20b9837b",
   "metadata": {},
   "outputs": [],
   "source": [
    "result[5][0]"
   ]
  },
  {
   "cell_type": "code",
   "execution_count": null,
   "id": "ef551c81",
   "metadata": {},
   "outputs": [],
   "source": [
    "result = defaultdict(list)\n",
    "move_tree_bfs(result,board,5,board.turn,pruner=produce_pruner_by_top_k(10000))"
   ]
  },
  {
   "cell_type": "code",
   "execution_count": null,
   "id": "789902f4",
   "metadata": {},
   "outputs": [],
   "source": [
    "str(board)"
   ]
  },
  {
   "cell_type": "code",
   "execution_count": null,
   "id": "71525ddb",
   "metadata": {},
   "outputs": [],
   "source": [
    "board = chess.Board()"
   ]
  },
  {
   "cell_type": "code",
   "execution_count": null,
   "id": "84e9efa4",
   "metadata": {},
   "outputs": [],
   "source": [
    "widths = []\n",
    "for k,v in result.items():\n",
    "    print(k,len(v))\n",
    "    widths.append(len(v))"
   ]
  },
  {
   "cell_type": "code",
   "execution_count": null,
   "id": "e7fe07b6",
   "metadata": {
    "scrolled": true
   },
   "outputs": [],
   "source": [
    "import matplotlib.pyplot as plt\n",
    "plt.plot(np.log(widths))\n",
    "plt.title('logarithmic scaling of depth with tree width')\n",
    "plt.xlabel('depths')\n",
    "plt.ylabel('Tree Width')"
   ]
  },
  {
   "cell_type": "code",
   "execution_count": null,
   "id": "636fe2e5",
   "metadata": {},
   "outputs": [],
   "source": []
  }
 ],
 "metadata": {
  "kernelspec": {
   "display_name": "Python 3 (ipykernel)",
   "language": "python",
   "name": "python3"
  },
  "language_info": {
   "codemirror_mode": {
    "name": "ipython",
    "version": 3
   },
   "file_extension": ".py",
   "mimetype": "text/x-python",
   "name": "python",
   "nbconvert_exporter": "python",
   "pygments_lexer": "ipython3",
   "version": "3.9.12"
  }
 },
 "nbformat": 4,
 "nbformat_minor": 5
}
